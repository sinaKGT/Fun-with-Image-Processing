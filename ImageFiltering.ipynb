{
 "cells": [
  {
   "cell_type": "code",
   "execution_count": 15,
   "id": "57b9dfce-468d-41d6-8191-8d56b402e906",
   "metadata": {},
   "outputs": [],
   "source": [
    "import cv2"
   ]
  },
  {
   "cell_type": "code",
   "execution_count": 17,
   "id": "63a390eb-6884-4a4c-b613-74b56d6efad0",
   "metadata": {},
   "outputs": [
    {
     "data": {
      "text/plain": [
       "True"
      ]
     },
     "execution_count": 17,
     "metadata": {},
     "output_type": "execute_result"
    }
   ],
   "source": [
    "img = cv2.imread('desk.jpg')\n",
    "cv2.imwrite('desk2.png', img)"
   ]
  },
  {
   "cell_type": "code",
   "execution_count": 19,
   "id": "1357c164-6b65-4036-ac34-869a7896e22a",
   "metadata": {},
   "outputs": [
    {
     "data": {
      "text/plain": [
       "-1"
      ]
     },
     "execution_count": 19,
     "metadata": {},
     "output_type": "execute_result"
    }
   ],
   "source": [
    "gray_image = cv2.imread('river.jpg', cv2.IMREAD_GRAYSCALE)\n",
    "cv2.imshow('Gray Image', gray_image)\n",
    "cv2.waitKey(0)"
   ]
  },
  {
   "cell_type": "code",
   "execution_count": 1,
   "id": "45df9735-5021-4a2d-ab8b-a6290fd17ee2",
   "metadata": {},
   "outputs": [],
   "source": [
    "import cv2\n",
    "import numpy as np"
   ]
  },
  {
   "cell_type": "code",
   "execution_count": 23,
   "id": "7e8b54f6-d022-4cf3-9b6e-f2c8342ce20c",
   "metadata": {},
   "outputs": [
    {
     "data": {
      "text/plain": [
       "-1"
      ]
     },
     "execution_count": 23,
     "metadata": {},
     "output_type": "execute_result"
    }
   ],
   "source": [
    "img = cv2.imread('desk.jpg')\n",
    "\n",
    "kernel_3x3 = np.array([[1,1,1],\n",
    "                       [1,1,1],\n",
    "                       [1,1,1]]) / 9.0\n",
    "\n",
    "kernel_5x5 = np.ones((5,5), np.float32) / 25.0\n",
    "\n",
    "output = cv2.filter2D(img, -1, kernel_3x3)\n",
    "output2 = cv2.filter2D(img, -1, kernel_5x5)\n",
    "\n",
    "cv2.imshow('orginal Image', img)\n",
    "cv2.imshow('3x3 Filter', output)\n",
    "cv2.imshow('5x5 Filter', output2)\n",
    "cv2.waitKey(0)"
   ]
  },
  {
   "cell_type": "code",
   "execution_count": 10,
   "id": "bc76e323-77b1-4df9-b42e-ef297240a81c",
   "metadata": {},
   "outputs": [
    {
     "data": {
      "text/plain": [
       "-1"
      ]
     },
     "execution_count": 10,
     "metadata": {},
     "output_type": "execute_result"
    }
   ],
   "source": [
    "img = cv2.imread('river.jpg', cv2.IMREAD_GRAYSCALE)\n",
    "\n",
    "sobel_horizontal = cv2.Sobel(img, cv2.CV_64F, 1, 0, ksize=5)\n",
    "sobel_vertival = cv2.Sobel(img, cv2.CV_64F, 0, 1, ksize=5)\n",
    "laplacian = cv2.Laplacian(img, cv2.CV_64F)\n",
    "canny = cv2.Canny(img, 50, 240)\n",
    "\n",
    "#cv2.imshow('Orginal Image', img)\n",
    "#cv2.imshow('Sobel Horizontal', sobel_horizontal)\n",
    "#cv2.imshow('Sobel Vertical', sobel_vertival)\n",
    "#cv2.imshow('Lapcacian', laplacian)\n",
    "cv2.imshow('Canny', canny)\n",
    "cv2.waitKey(0)"
   ]
  },
  {
   "cell_type": "code",
   "execution_count": 2,
   "id": "63bba09a-6e8a-4e24-a26a-1181300d8502",
   "metadata": {},
   "outputs": [],
   "source": [
    "import cv2\n",
    "import numpy as np"
   ]
  },
  {
   "cell_type": "code",
   "execution_count": 5,
   "id": "543d2aac-251e-4bbe-9322-b6085d0f0a51",
   "metadata": {},
   "outputs": [
    {
     "data": {
      "text/plain": [
       "-1"
      ]
     },
     "execution_count": 5,
     "metadata": {},
     "output_type": "execute_result"
    }
   ],
   "source": [
    "img = cv2.imread('river.jpg')\n",
    "cv2.imshow('Orginal Image', img)\n",
    "\n",
    "kernel_sharpen_1 = np.array([[-1,-1,-1],\n",
    "                             [-1,9,-1],\n",
    "                             [-1,-1,-1]])\n",
    "\n",
    "kernel_sharpen_2 = np.array([[1,1,1],\n",
    "                             [1,-7,1],\n",
    "                             [1,1,1]])\n",
    "\n",
    "kernel_sharpen_3 = np.array([[-1,-1,-1,-1,-1],\n",
    "                             [-1,2,2,2,-1],\n",
    "                             [-1,2,8,2,-1],\n",
    "                             [-1,2,2,2,-1],\n",
    "                             [-1,-1,-1,-1,-1]]) / 8\n",
    "\n",
    "output_1  = cv2.filter2D(img, -1, kernel_sharpen_1)\n",
    "output_2  = cv2.filter2D(img, -1, kernel_sharpen_2)\n",
    "output_3  = cv2.filter2D(img, -1, kernel_sharpen_3)\n",
    "\n",
    "cv2.imshow('Sharpening', output_1)\n",
    "cv2.imshow('More Sharpening', output_2)\n",
    "cv2.imshow('Edge enhancment', output_3)\n",
    "cv2.waitKey(0)"
   ]
  },
  {
   "cell_type": "code",
   "execution_count": 6,
   "id": "e183ef9e-c59e-4f3e-afd4-3da9ff0c2565",
   "metadata": {},
   "outputs": [
    {
     "data": {
      "text/plain": [
       "True"
      ]
     },
     "execution_count": 6,
     "metadata": {},
     "output_type": "execute_result"
    }
   ],
   "source": [
    "import cv2\n",
    "import numpy as np\n",
    "\n",
    "img = cv2.imread('lowlight2main.jpg', 0)\n",
    "\n",
    "histeq = cv2.equalizeHist(img)\n",
    "cv2.imwrite('lowlight3.jpg', histeq)"
   ]
  },
  {
   "cell_type": "code",
   "execution_count": null,
   "id": "f9636beb-13fd-4725-a3fa-70882c6379de",
   "metadata": {},
   "outputs": [],
   "source": []
  }
 ],
 "metadata": {
  "kernelspec": {
   "display_name": "env",
   "language": "python",
   "name": "env"
  },
  "language_info": {
   "codemirror_mode": {
    "name": "ipython",
    "version": 3
   },
   "file_extension": ".py",
   "mimetype": "text/x-python",
   "name": "python",
   "nbconvert_exporter": "python",
   "pygments_lexer": "ipython3",
   "version": "3.8.6"
  }
 },
 "nbformat": 4,
 "nbformat_minor": 5
}
